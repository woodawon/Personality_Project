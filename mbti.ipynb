{
 "cells": [
  {
   "cell_type": "code",
   "execution_count": 17,
   "metadata": {},
   "outputs": [
    {
     "name": "stdout",
     "output_type": "stream",
     "text": [
      "[0 0 0 0 3 3 3 3 4 4 4 4 3 3 3 3 5 5 5 5 2 2 2 2 7 7 7 7 4 4 4 4 4 4 4 4 7\n",
      " 7 7 7 4 4 4 4 3 3 3 3 6 6 6 6 2 2 2 2 4 4 4 4 1 1 1 1 1 1 1 1 7 7 7 7 0 0\n",
      " 0 0 0 0 0 0 5 5 5 5 3 3 3 3 7 7 7 7 6 6 6 6 1 1 1 1 3 3 3 3 1 1 1 1 1 1 1\n",
      " 1 0 0 0 0 5 5 5 5 6 6 6 6 5 5 5 5 6 6 6 6 0 0 0 0 7 7 7 7 6 6 6 6 5 5 5 5\n",
      " 2 2 2 2 2 2 2 2 2 2 2 2]\n",
      "[0 1 2 3 0 1 2 3 0 1 2 3 0 1 2 3 0 1 2 3 0 1 2 3 0 1 2 3 0 1 2 3 0 1 2 3 0\n",
      " 1 2 3 0 1 2 3 0 1 2 3 0 1 2 3 0 1 2 3 0 1 2 3 0 1 2 3 0 1 2 3 0 1 2 3 0 1\n",
      " 2 3 0 1 2 3 0 1 2 3 0 1 2 3 0 1 2 3 0 1 2 3 0 1 2 3 0 1 2 3 0 1 2 3 0 1 2\n",
      " 3 0 1 2 3 0 1 2 3 0 1 2 3 0 1 2 3 0 1 2 3 0 1 2 3 0 1 2 3 0 1 2 3 0 1 2 3\n",
      " 0 1 2 3 0 1 2 3 0 1 2 3]\n",
      "0.625\n"
     ]
    }
   ],
   "source": [
    "import pandas as pd\n",
    "import os\n",
    "from sklearn import preprocessing\n",
    "from sklearn.naive_bayes import GaussianNB\n",
    "from sklearn.preprocessing import OneHotEncoder\n",
    "\n",
    "os.chdir(r'C:\\Users\\SECRET\\data')\n",
    "df = pd.read_csv('mbti_train_data_set.csv')\n",
    "\n",
    "type = df['Type']\n",
    "personailty = df['Personality']\n",
    "select = df['Select']\n",
    "percent = df['Percent']\n",
    "\n",
    "# 라벨인코더 생성\n",
    "le = preprocessing.LabelEncoder()\n",
    "type_encoded = le.fit_transform(type)\n",
    "select_encoded = le.fit_transform(select)\n",
    "\n",
    "sepe_df = list(zip(select, percent))\n",
    "encoder = OneHotEncoder()\n",
    "se_pe_label = encoder.fit_transform(sepe_df).toarray()\n",
    "\n",
    "labels_1d = []\n",
    "for row in se_pe_label:\n",
    "    label_index = row.tolist().index(1)\n",
    "    labels_1d.append(label_index)\n",
    "\n",
    "features = list(zip(type_encoded, select_encoded))\n",
    "\n",
    "model = GaussianNB()\n",
    "model.fit(features, labels_1d)\n",
    "\n",
    "print(type_encoded)\n",
    "print(select_encoded)\n",
    "\n",
    "# E, select --> 그냥 이렇게만 해선 안됨. select에 따른 percent값이 뭐냐에 따라 \n",
    "# 더욱 추가적인 + %값을 해주도록 코드를 추가해야 할거임.\n",
    "# 나이브베이즈 분류의 특성상 그렇다..\n",
    "# 나이브베이즈 다중 분류로 하기에도 어렵기 때문에 그냥 수작업 코드가 좋을듯\n",
    "predicted = model.predict([[0, 1], [1, 2], [2, 0]])\n",
    "\n",
    "def accuracy_score():\n",
    "    entire = len(type_encoded)\n",
    "    something = len(predicted)\n",
    "    percent = (something / entire) * 100\n",
    "    return percent\n",
    "\n",
    "print(accuracy_score())\n",
    "\n",
    "\n"
   ]
  }
 ],
 "metadata": {
  "kernelspec": {
   "display_name": "Python 3",
   "language": "python",
   "name": "python3"
  },
  "language_info": {
   "codemirror_mode": {
    "name": "ipython",
    "version": 3
   },
   "file_extension": ".py",
   "mimetype": "text/x-python",
   "name": "python",
   "nbconvert_exporter": "python",
   "pygments_lexer": "ipython3",
   "version": "3.11.5"
  }
 },
 "nbformat": 4,
 "nbformat_minor": 2
}
