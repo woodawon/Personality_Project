{
 "cells": [
  {
   "cell_type": "code",
   "execution_count": 15,
   "metadata": {},
   "outputs": [
    {
     "name": "stdout",
     "output_type": "stream",
     "text": [
      "[30 30 30 30 27 27 27 27  8  8  8  8 24 24 24 24  4  4  4  4 34 34 34 34\n",
      "  0  0  0  0  9  9  9  9 21 21 21 21 38 38 38 38 11 11 11 11 36 36 36 36\n",
      " 33 33 33 33  3  3  3  3 20 20 20 20 23 23 23 23 18 18 18 18  5  5  5  5\n",
      " 16 16 16 16 35 35 35 35 17 17 17 17 25 25 25 25 15 15 15 15 32 32 32 32\n",
      " 39 39 39 39  2  2  2  2  7  7  7  7 19 19 19 19 29 29 29 29 14 14 14 14\n",
      "  1  1  1  1 37 37 37 37 31 31 31 31 13 13 13 13  6  6  6  6 26 26 26 26\n",
      " 22 22 22 22 12 12 12 12 10 10 10 10 28 28 28 28]\n"
     ]
    }
   ],
   "source": [
    "import pandas as pd\n",
    "import os\n",
    "from sklearn import preprocessing\n",
    "\n",
    "os.chdir(r'C:\\Users\\SECRET\\data')\n",
    "df = pd.read_csv('mbti_train_data_set.csv')\n",
    "\n",
    "type = df['Type']\n",
    "personailty = df['Personality']\n",
    "select = df['Select']\n",
    "percent = df['Percent']\n",
    "\n",
    "# 라벨인코더 생성\n",
    "le = preprocessing.LabelEncoder()\n",
    "type_encoded = le.fit_transform(type)\n",
    "per_encoded = le.fit_transform(personailty)\n",
    "print(per_encoded)\n",
    "\n",
    "\n"
   ]
  }
 ],
 "metadata": {
  "kernelspec": {
   "display_name": "Python 3",
   "language": "python",
   "name": "python3"
  },
  "language_info": {
   "codemirror_mode": {
    "name": "ipython",
    "version": 3
   },
   "file_extension": ".py",
   "mimetype": "text/x-python",
   "name": "python",
   "nbconvert_exporter": "python",
   "pygments_lexer": "ipython3",
   "version": "3.11.5"
  }
 },
 "nbformat": 4,
 "nbformat_minor": 2
}
